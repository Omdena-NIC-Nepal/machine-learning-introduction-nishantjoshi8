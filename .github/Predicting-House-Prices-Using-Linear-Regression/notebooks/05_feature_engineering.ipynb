{
 "cells": [
  {
   "cell_type": "markdown",
   "metadata": {},
   "source": [
    "# Feature Engineering for House Price Prediction\n",
    "\n",
    "In this notebook, we will explore feature engineering techniques to enhance our model's performance. We will create new features, test combinations, and evaluate their impact on the model."
   ]
  },
  {
   "cell_type": "code",
   "execution_count": 1,
   "metadata": {},
   "outputs": [
    {
     "data": {
      "text/html": [
       "<div>\n",
       "<style scoped>\n",
       "    .dataframe tbody tr th:only-of-type {\n",
       "        vertical-align: middle;\n",
       "    }\n",
       "\n",
       "    .dataframe tbody tr th {\n",
       "        vertical-align: top;\n",
       "    }\n",
       "\n",
       "    .dataframe thead th {\n",
       "        text-align: right;\n",
       "    }\n",
       "</style>\n",
       "<table border=\"1\" class=\"dataframe\">\n",
       "  <thead>\n",
       "    <tr style=\"text-align: right;\">\n",
       "      <th></th>\n",
       "      <th>crim</th>\n",
       "      <th>zn</th>\n",
       "      <th>indus</th>\n",
       "      <th>chas</th>\n",
       "      <th>nox</th>\n",
       "      <th>rm</th>\n",
       "      <th>age</th>\n",
       "      <th>dis</th>\n",
       "      <th>rad</th>\n",
       "      <th>tax</th>\n",
       "      <th>ptratio</th>\n",
       "      <th>b</th>\n",
       "      <th>lstat</th>\n",
       "      <th>Price</th>\n",
       "    </tr>\n",
       "  </thead>\n",
       "  <tbody>\n",
       "    <tr>\n",
       "      <th>0</th>\n",
       "      <td>15.02340</td>\n",
       "      <td>0.0</td>\n",
       "      <td>18.10</td>\n",
       "      <td>0</td>\n",
       "      <td>0.6140</td>\n",
       "      <td>5.304</td>\n",
       "      <td>97.3</td>\n",
       "      <td>2.1007</td>\n",
       "      <td>24</td>\n",
       "      <td>666</td>\n",
       "      <td>20.2</td>\n",
       "      <td>349.48</td>\n",
       "      <td>24.91</td>\n",
       "      <td>12.0</td>\n",
       "    </tr>\n",
       "    <tr>\n",
       "      <th>1</th>\n",
       "      <td>0.62739</td>\n",
       "      <td>0.0</td>\n",
       "      <td>8.14</td>\n",
       "      <td>0</td>\n",
       "      <td>0.5380</td>\n",
       "      <td>5.834</td>\n",
       "      <td>56.5</td>\n",
       "      <td>4.4986</td>\n",
       "      <td>4</td>\n",
       "      <td>307</td>\n",
       "      <td>21.0</td>\n",
       "      <td>395.62</td>\n",
       "      <td>8.47</td>\n",
       "      <td>19.9</td>\n",
       "    </tr>\n",
       "    <tr>\n",
       "      <th>2</th>\n",
       "      <td>0.03466</td>\n",
       "      <td>35.0</td>\n",
       "      <td>6.06</td>\n",
       "      <td>0</td>\n",
       "      <td>0.4379</td>\n",
       "      <td>6.031</td>\n",
       "      <td>23.3</td>\n",
       "      <td>6.6407</td>\n",
       "      <td>1</td>\n",
       "      <td>304</td>\n",
       "      <td>16.9</td>\n",
       "      <td>362.25</td>\n",
       "      <td>7.83</td>\n",
       "      <td>19.4</td>\n",
       "    </tr>\n",
       "    <tr>\n",
       "      <th>3</th>\n",
       "      <td>7.05042</td>\n",
       "      <td>0.0</td>\n",
       "      <td>18.10</td>\n",
       "      <td>0</td>\n",
       "      <td>0.6140</td>\n",
       "      <td>6.103</td>\n",
       "      <td>85.1</td>\n",
       "      <td>2.0218</td>\n",
       "      <td>24</td>\n",
       "      <td>666</td>\n",
       "      <td>20.2</td>\n",
       "      <td>2.52</td>\n",
       "      <td>23.29</td>\n",
       "      <td>13.4</td>\n",
       "    </tr>\n",
       "    <tr>\n",
       "      <th>4</th>\n",
       "      <td>0.72580</td>\n",
       "      <td>0.0</td>\n",
       "      <td>8.14</td>\n",
       "      <td>0</td>\n",
       "      <td>0.5380</td>\n",
       "      <td>5.727</td>\n",
       "      <td>69.5</td>\n",
       "      <td>3.7965</td>\n",
       "      <td>4</td>\n",
       "      <td>307</td>\n",
       "      <td>21.0</td>\n",
       "      <td>390.95</td>\n",
       "      <td>11.28</td>\n",
       "      <td>18.2</td>\n",
       "    </tr>\n",
       "  </tbody>\n",
       "</table>\n",
       "</div>"
      ],
      "text/plain": [
       "       crim    zn  indus  chas     nox     rm   age     dis  rad  tax  \\\n",
       "0  15.02340   0.0  18.10     0  0.6140  5.304  97.3  2.1007   24  666   \n",
       "1   0.62739   0.0   8.14     0  0.5380  5.834  56.5  4.4986    4  307   \n",
       "2   0.03466  35.0   6.06     0  0.4379  6.031  23.3  6.6407    1  304   \n",
       "3   7.05042   0.0  18.10     0  0.6140  6.103  85.1  2.0218   24  666   \n",
       "4   0.72580   0.0   8.14     0  0.5380  5.727  69.5  3.7965    4  307   \n",
       "\n",
       "   ptratio       b  lstat  Price  \n",
       "0     20.2  349.48  24.91   12.0  \n",
       "1     21.0  395.62   8.47   19.9  \n",
       "2     16.9  362.25   7.83   19.4  \n",
       "3     20.2    2.52  23.29   13.4  \n",
       "4     21.0  390.95  11.28   18.2  "
      ]
     },
     "execution_count": 1,
     "metadata": {},
     "output_type": "execute_result"
    }
   ],
   "source": [
    "# Import necessary libraries\n",
    "import pandas as pd\n",
    "import numpy as np\n",
    "import matplotlib.pyplot as plt\n",
    "import seaborn as sns\n",
    "\n",
    "# Load the processed dataset\n",
    "data = pd.read_csv('../data/processed/processed_data.csv')\n",
    "data.head()"
   ]
  },
  {
   "cell_type": "code",
   "execution_count": null,
   "metadata": {},
   "outputs": [
    {
     "name": "stdout",
     "output_type": "stream",
     "text": [
      "Index(['crim', 'zn', 'indus', 'chas', 'nox', 'rm', 'age', 'dis', 'rad', 'tax',\n",
      "       'ptratio', 'b', 'lstat', 'Price'],\n",
      "      dtype='object')\n"
     ]
    }
   ],
   "source": [
    "print(data.columns)"
   ]
  },
  {
   "cell_type": "markdown",
   "metadata": {},
   "source": [
    "## Creating New Features\n",
    "\n",
    "We will create new features based on existing ones to capture more information that may help in predicting house prices."
   ]
  },
  {
   "cell_type": "code",
   "execution_count": 22,
   "metadata": {},
   "outputs": [
    {
     "name": "stdout",
     "output_type": "stream",
     "text": [
      "      rm  tax  rooms_per_tax  lstat      crim  lstat_to_crim_ratio\n",
      "0  5.304  666       0.007964  24.91  15.02340             1.658080\n",
      "1  5.834  307       0.019003   8.47   0.62739            13.500375\n",
      "2  6.031  304       0.019839   7.83   0.03466           225.908829\n",
      "3  6.103  666       0.009164  23.29   7.05042             3.303349\n",
      "4  5.727  307       0.018655  11.28   0.72580            15.541471\n",
      "        rm  tax  rooms_per_tax  lstat      crim  lstat_to_crim_ratio\n",
      "0    5.304  666       0.007964  24.91  15.02340             1.658080\n",
      "1    5.834  307       0.019003   8.47   0.62739            13.500375\n",
      "2    6.031  304       0.019839   7.83   0.03466           225.908829\n",
      "3    6.103  666       0.009164  23.29   7.05042             3.303349\n",
      "4    5.727  307       0.018655  11.28   0.72580            15.541471\n",
      "..     ...  ...            ...    ...       ...                  ...\n",
      "399  5.836  384       0.015198  18.66   0.17120           108.995327\n",
      "400  5.856  223       0.026260  13.00   0.29916            43.455007\n",
      "401  6.635  280       0.023696   5.99   0.01501           399.067288\n",
      "402  6.629  666       0.009953  23.27  11.16040             2.085051\n",
      "403  6.405  384       0.016680  10.63   0.22876            46.467914\n",
      "\n",
      "[404 rows x 6 columns]\n"
     ]
    }
   ],
   "source": [
    "# Example: Creating a new feature 'rooms_per_tax'\n",
    "data['rooms_per_tax'] = data['rm'] / data['tax']\n",
    "\n",
    "# Example: Creating a new feature 'lstat_to_crim_ratio'\n",
    "data['lstat_to_crim_ratio'] = data['lstat'] / data['crim']\n",
    "\n",
    "# Display the new features\n",
    "print(data[['rm', 'tax', 'rooms_per_tax', 'lstat', 'crim', 'lstat_to_crim_ratio']].head())\n",
    "\n",
    "# Example: Creating a new feature 'lstat_to_crim_ratio'\n",
    "data['lstat_to_crim_ratio'] = data['lstat'] / data['crim']\n",
    "\n",
    "# Display the new features\n",
    "print(data[['rm', 'tax', 'rooms_per_tax', 'lstat', 'crim', 'lstat_to_crim_ratio']])"
   ]
  },
  {
   "cell_type": "markdown",
   "metadata": {},
   "source": [
    "## Testing Feature Combinations\n",
    "\n",
    "We will test different combinations of features to see which ones contribute the most to the model's performance."
   ]
  },
  {
   "cell_type": "code",
   "execution_count": 24,
   "metadata": {},
   "outputs": [
    {
     "name": "stdout",
     "output_type": "stream",
     "text": [
      "Mean Squared Error: 26.267323886242025\n",
      "R-squared: 0.6305574781652072\n"
     ]
    }
   ],
   "source": [
    "# Example: Testing combinations of features\n",
    "from sklearn.model_selection import train_test_split\n",
    "from sklearn.linear_model import LinearRegression\n",
    "from sklearn.metrics import mean_squared_error, r2_score\n",
    "\n",
    "# Define features and target\n",
    "X = data[['rm', 'tax', 'rooms_per_tax', 'lstat', 'crim', 'lstat_to_crim_ratio']]  # Relevant features\n",
    "y = data['Price']  # Target variable\n",
    "\n",
    "# Split the data\n",
    "X_train, X_test, y_train, y_test = train_test_split(X, y, test_size=0.2, random_state=42)\n",
    "\n",
    "# Train the model\n",
    "model = LinearRegression()\n",
    "model.fit(X_train, y_train)\n",
    "\n",
    "# Make predictions\n",
    "y_pred = model.predict(X_test)\n",
    "\n",
    "# Evaluate the model\n",
    "mse = mean_squared_error(y_test, y_pred)\n",
    "r2 = r2_score(y_test, y_pred)\n",
    "print(f'Mean Squared Error: {mse}')\n",
    "print(f'R-squared: {r2}')"
   ]
  },
  {
   "cell_type": "markdown",
   "metadata": {},
   "source": [
    "## Conclusion\n",
    "\n",
    "In this notebook, we explored feature engineering techniques that can potentially improve our model's performance. Further analysis can be conducted to refine these features and test additional combinations."
   ]
  }
 ],
 "metadata": {
  "kernelspec": {
   "display_name": "base",
   "language": "python",
   "name": "python3"
  },
  "language_info": {
   "codemirror_mode": {
    "name": "ipython",
    "version": 3
   },
   "file_extension": ".py",
   "mimetype": "text/x-python",
   "name": "python",
   "nbconvert_exporter": "python",
   "pygments_lexer": "ipython3",
   "version": "3.12.7"
  }
 },
 "nbformat": 4,
 "nbformat_minor": 4
}
